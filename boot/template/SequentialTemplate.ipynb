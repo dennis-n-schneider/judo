{
 "cells": [
  {
   "cell_type": "code",
   "execution_count": 13,
   "id": "6f442db9",
   "metadata": {},
   "outputs": [],
   "source": [
    "import torch\n",
    "from torch import nn\n",
    "from torch.nn import functional as F\n",
    "from torch.utils.data import DataLoader\n",
    "from torchvision import datasets, transforms\n",
    "import pytorch_lightning as pl\n",
    "import os\n"
   ]
  },
  {
   "cell_type": "code",
   "execution_count": 113,
   "id": "d5be7d62",
   "metadata": {},
   "outputs": [],
   "source": [
    "def block(in_filters, out_filters, activation=None, *args, **kwargs):\n",
    "    if activation is None:\n",
    "        activation = nn.ReLU\n",
    "    return nn.Sequential(\n",
    "        nn.Conv2d(in_filters, out_filters, *args, **kwargs),\n",
    "        activation(),\n",
    "        nn.MaxPool2d(kernel_size=2)\n",
    "    )\n",
    "\n",
    "class MyModel(pl.LightningModule):\n",
    "    \n",
    "    def __init__(self, layer_widths: list, *args, **kwargs):\n",
    "        \"\"\"\n",
    "        Creates a model consisting of\n",
    "        - a Sequence of blocks\n",
    "        - a Sequance of output Dense Layers\n",
    "        - a Softmax-function for outputting \"probabilities\"\n",
    "        layer_widths: []\n",
    "            [input_dim, *hidden_layer_dims, n_classes]\n",
    "        activation=method\n",
    "            nn.ReLU, ...\n",
    "        \"\"\"\n",
    "        super().__init__()\n",
    "        self.blocks = nn.Sequential(*[\n",
    "            block(in_dim, out_dim, *args, **kwargs) \n",
    "            for in_dim, out_dim in zip(layer_widths[:-1], layer_widths[1:-1]) # zip with shifted version of itself\n",
    "                                                                              # to make dimensions match.\n",
    "                                                                              # Exclude last layer for self.tail\n",
    "        ])\n",
    "        self.tail = nn.Sequential(*[\n",
    "            nn.Linear(32*7*7, layer_widths[-1])\n",
    "        ])\n",
    "        self.model = nn.Sequential(*[\n",
    "            self.blocks,\n",
    "            nn.Flatten(),\n",
    "            self.tail,\n",
    "            nn.Softmax()\n",
    "        ])\n",
    "        \n",
    "    def forward(self, x):\n",
    "        return self.model(x)\n",
    "    \n",
    "    def _calculate_loss(self, x, y):\n",
    "        y_predicted = self(x)\n",
    "        loss = F.cross_entropy(y_predicted, y)\n",
    "        return loss\n",
    "    \n",
    "    def training_step(self, batch, batch_idx):\n",
    "        \"\"\"\n",
    "        Customize the training-procedure and the loss function.\n",
    "        \"\"\"\n",
    "        x, y = batch\n",
    "        loss = self._calculate_loss(x, y)\n",
    "        return loss\n",
    "    \n",
    "    def validation_step(self, batch, batch_idx):\n",
    "        x, y = batch\n",
    "        y_predicted = self(x)\n",
    "        loss = self._calculate_loss(x, y)\n",
    "        metrics = {'val_loss': loss}\n",
    "        self.log_dict(metrics)\n",
    "        return metrics\n",
    "        \n",
    "    def test_step(self, batch, batch_idx):\n",
    "        x, y = batch\n",
    "        loss = self._calculate_loss(x, y)\n",
    "        metrics = {'test_loss': loss}\n",
    "        self.log_dict(metrics)\n",
    "        return metrics\n",
    "    \n",
    "    def predict_step(self, batch, batch_idx, dataloader_idx=0):\n",
    "        x, y = batch\n",
    "        y_predicted = self(x)\n",
    "        return y_predicted\n",
    "    \n",
    "    def configure_optimizers(self):\n",
    "        \"\"\"\n",
    "        Configure optimizer to use.\n",
    "        \"\"\"\n",
    "        return torch.optim.Adam(self.parameters())\n"
   ]
  },
  {
   "cell_type": "code",
   "execution_count": 114,
   "id": "080d59b7",
   "metadata": {},
   "outputs": [
    {
     "name": "stderr",
     "output_type": "stream",
     "text": [
      "GPU available: False, used: False\n",
      "TPU available: False, using: 0 TPU cores\n",
      "IPU available: False, using: 0 IPUs\n",
      "\n",
      "  | Name   | Type       | Params\n",
      "--------------------------------------\n",
      "0 | blocks | Sequential | 13.2 K\n",
      "1 | tail   | Sequential | 15.7 K\n",
      "2 | model  | Sequential | 28.9 K\n",
      "--------------------------------------\n",
      "28.9 K    Trainable params\n",
      "0         Non-trainable params\n",
      "28.9 K    Total params\n",
      "0.116     Total estimated model params size (MB)\n"
     ]
    },
    {
     "data": {
      "application/vnd.jupyter.widget-view+json": {
       "model_id": "8c116a1b95cb4a4383b18731cc272296",
       "version_major": 2,
       "version_minor": 0
      },
      "text/plain": [
       "Training: 0it [00:00, ?it/s]"
      ]
     },
     "metadata": {},
     "output_type": "display_data"
    }
   ],
   "source": [
    "train_ds = datasets.MNIST(os.getcwd(), download=True, transform=transforms.Compose(\n",
    "    [\n",
    "        transforms.ToTensor()\n",
    "    ]))\n",
    "train_loader = DataLoader(train_ds, batch_size = 42) # sample shape [1, 28, 28]\n",
    "trainer = pl.Trainer(max_epochs=1)\n",
    "\"\"\"\n",
    "layer_widths:\n",
    "[\n",
    "input_dimension (1)\n",
    "*hidden layers (16x32 width matrix, 32x10 width matrix. Two layers of 16 and 32 neurons)\n",
    "output-dimenion (10)\n",
    "]\n",
    "further args are piped to the block/Linear/Conv layer.\n",
    "\n",
    "First markdown approach. \n",
    "- What is the input, output dimension?\n",
    "- What kind of blocks is needed?\n",
    "- Overall architecture of the model.\n",
    "- Optimizer. Which different variables are there for the optimizer?\n",
    "- Loss function. Which loss-functions make sense?\n",
    "- Pull these parameters out of the model (No idea how though...)\n",
    "\n",
    "\"\"\"\n",
    "model = MyModel(layer_widths = [1, 16, 32, 10], kernel_size=5, stride=1, padding=2)\n",
    "trainer.fit(model, train_loader)\n",
    "#print(model)"
   ]
  },
  {
   "cell_type": "code",
   "execution_count": null,
   "id": "9bb45456",
   "metadata": {},
   "outputs": [],
   "source": []
  }
 ],
 "metadata": {
  "kernelspec": {
   "display_name": "Python 3 (ipykernel)",
   "language": "python",
   "name": "python3"
  },
  "language_info": {
   "codemirror_mode": {
    "name": "ipython",
    "version": 3
   },
   "file_extension": ".py",
   "mimetype": "text/x-python",
   "name": "python",
   "nbconvert_exporter": "python",
   "pygments_lexer": "ipython3",
   "version": "3.8.5"
  }
 },
 "nbformat": 4,
 "nbformat_minor": 5
}
